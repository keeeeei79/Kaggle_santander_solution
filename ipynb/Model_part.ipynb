{
 "cells": [
  {
   "cell_type": "code",
   "execution_count": 15,
   "metadata": {},
   "outputs": [],
   "source": [
    "import pandas as pd\n",
    "import numpy  as np\n",
    "import gc\n",
    "import os\n",
    "from tqdm import tqdm\n",
    "import lightgbm as lgb\n",
    "from sklearn.model_selection import ParameterGrid"
   ]
  },
  {
   "cell_type": "code",
   "execution_count": 16,
   "metadata": {},
   "outputs": [],
   "source": [
    "def get_data():\n",
    "    print('Reading data')\n",
    "    data = pd.read_feather('../input/train.ftr')\n",
    "    test = pd.read_feather('../input/test.ftr')\n",
    "    print('Train shape ', data.shape, ' Test shape ', test.shape)\n",
    "    return data, test"
   ]
  },
  {
   "cell_type": "code",
   "execution_count": 17,
   "metadata": {},
   "outputs": [
    {
     "name": "stdout",
     "output_type": "stream",
     "text": [
      "Reading data\n",
      "Train shape  (4459, 4993)  Test shape  (49342, 4992)\n"
     ]
    }
   ],
   "source": [
    "# Get the data\n",
    "data, test = get_data()"
   ]
  },
  {
   "cell_type": "markdown",
   "metadata": {},
   "source": [
    "# add leak test"
   ]
  },
  {
   "cell_type": "code",
   "execution_count": 18,
   "metadata": {},
   "outputs": [],
   "source": [
    "leak_test = pd.read_feather('../input/leak_test.ftr')\n",
    "\n",
    "leak_test = leak_test[leak_test.compiled_leak != 0]\n",
    "\n",
    "leak_test['target'] = leak_test['compiled_leak']\n",
    "leak_test = leak_test[data.columns]\n",
    "\n",
    "data = data.append(leak_test, ignore_index=True)"
   ]
  },
  {
   "cell_type": "code",
   "execution_count": 19,
   "metadata": {},
   "outputs": [
    {
     "data": {
      "text/plain": [
       "35"
      ]
     },
     "execution_count": 19,
     "metadata": {},
     "output_type": "execute_result"
    }
   ],
   "source": [
    "# Get target and ids\n",
    "y = data[['ID', 'target']].copy()\n",
    "del data['target'], data['ID']\n",
    "sub = test[['ID']].copy()\n",
    "del test['ID']\n",
    "# Free some memory\n",
    "gc.collect()"
   ]
  },
  {
   "cell_type": "code",
   "execution_count": 21,
   "metadata": {},
   "outputs": [],
   "source": [
    "data = np.log1p(data)\n",
    "test = np.log1p(test)"
   ]
  },
  {
   "cell_type": "code",
   "execution_count": 22,
   "metadata": {},
   "outputs": [],
   "source": [
    "colset_filename = os.listdir('../input/continue_col/')\n",
    "colset_filename_40 = [fn for fn in colset_filename if fn.split('.')[0].split('_')[1] == '40']"
   ]
  },
  {
   "cell_type": "code",
   "execution_count": 23,
   "metadata": {},
   "outputs": [
    {
     "data": {
      "text/plain": [
       "90"
      ]
     },
     "execution_count": 23,
     "metadata": {},
     "output_type": "execute_result"
    }
   ],
   "source": [
    "len(colset_filename_40)"
   ]
  },
  {
   "cell_type": "code",
   "execution_count": 24,
   "metadata": {},
   "outputs": [],
   "source": [
    "colset_filename = os.listdir('../input/continue_col/')\n",
    "colset_filename_40 = [fn for fn in colset_filename if fn.split('.')[0].split('_')[1] == '40']\n",
    "col_set = []\n",
    "for c in colset_filename_40:\n",
    "    col_set.append(list(np.load('../input/continue_col/' + c)))"
   ]
  },
  {
   "cell_type": "code",
   "execution_count": 25,
   "metadata": {},
   "outputs": [],
   "source": [
    "def get_selected_features():\n",
    "    return [\n",
    "        'f190486d6', 'c47340d97', 'eeb9cd3aa', '66ace2992', 'e176a204a',\n",
    "        '491b9ee45', '1db387535', 'c5a231d81', '0572565c2', '024c577b9',\n",
    "        '15ace8c9f', '23310aa6f', '9fd594eec', '58e2e02e6', '91f701ba2',\n",
    "        'adb64ff71', '2ec5b290f', '703885424', '26fc93eb7', '6619d81fc',\n",
    "        '0ff32eb98', '70feb1494', '58e056e12', '1931ccfdd', '1702b5bf0',\n",
    "        '58232a6fb', '963a49cdc', 'fc99f9426', '241f0f867', '5c6487af1',\n",
    "        '62e59a501', 'f74e8f13d', 'fb49e4212', '190db8488', '324921c7b',\n",
    "        'b43a7cfd5', '9306da53f', 'd6bb78916', 'fb0f5dbfe', '6eef030c1'\n",
    "    ]\n",
    "\n",
    "def add_statistics(train, test):\n",
    "    train_zeros = pd.DataFrame({'Percent_zero': ((train.values) == 0).mean(axis=0),\n",
    "                                'Column': train.columns})\n",
    "    \n",
    "    high_vol_columns = train_zeros['Column'][train_zeros['Percent_zero'] < 0.70].values\n",
    "    low_vol_columns = train_zeros['Column'][train_zeros['Percent_zero'] >= 0.70].values\n",
    "    #This is part of the trick I think, plus lightgbm has a special process for NaNs\n",
    "    train = train.replace({0:np.nan})\n",
    "    test = test.replace({0:np.nan})\n",
    "\n",
    "    cluster_sets = {\"low\":low_vol_columns, \"high\":high_vol_columns, 'gsf':get_selected_features()}\n",
    "    tmp_train = pd.DataFrame()\n",
    "    tmp_test = pd.DataFrame()\n",
    "    for cluster_key in tqdm(cluster_sets):\n",
    "        for df, tmp in [(train, tmp_train),(test, tmp_test)]:\n",
    "            tmp[\"count_not0_\"+cluster_key] = df[cluster_sets[cluster_key]].count(axis=1)\n",
    "            tmp[\"sum_\"+cluster_key] = df[cluster_sets[cluster_key]].sum(axis=1)\n",
    "            tmp[\"median_\"+cluster_key] = df[cluster_sets[cluster_key]].median(axis=1)\n",
    "            tmp[\"mean_\"+cluster_key] = df[cluster_sets[cluster_key]].mean(axis=1)\n",
    "            tmp[\"std_\"+cluster_key] = df[cluster_sets[cluster_key]].std(axis=1)\n",
    "            tmp[\"max_\"+cluster_key] = df[cluster_sets[cluster_key]].max(axis=1)\n",
    "            tmp[\"min_\"+cluster_key] = df[cluster_sets[cluster_key]].min(axis=1)\n",
    "            tmp[\"skew_\"+cluster_key] = df[cluster_sets[cluster_key]].skew(axis=1)\n",
    "            tmp[\"kurtosis_\"+cluster_key] = df[cluster_sets[cluster_key]].kurtosis(axis=1)\n",
    "            tmp[\"nunique_\"+cluster_key] = df[cluster_sets[cluster_key]].nunique(axis=1)   \n",
    "            \n",
    "    return tmp_train, tmp_test\n",
    "\n",
    "def add_statistics2(train, test):\n",
    "    \n",
    "    #This is part of the trick I think, plus lightgbm has a special process for NaNs\n",
    "    train = train.replace({0:np.nan})\n",
    "    test = test.replace({0:np.nan})\n",
    "    \n",
    "    colset_filename = os.listdir('../input/continue_col/')\n",
    "    colset_filename_40 = [fn for fn in colset_filename if fn.split('.')[0].split('_')[1] == '40']\n",
    "    col_set = []\n",
    "    for c in colset_filename_40:\n",
    "        col_set.append(list(np.load('../input/continue_col/' + c)))\n",
    "    \n",
    "    cluster_sets = {}\n",
    "    for i, cols in enumerate(col_set):\n",
    "        cluster_sets['set_col_' + str(i)] = cols\n",
    "        \n",
    "    tmp_train = pd.DataFrame()\n",
    "    tmp_test = pd.DataFrame()\n",
    "    for cluster_key in cluster_sets:\n",
    "        for df, tmp in [(train, tmp_train),(test, tmp_test)]:\n",
    "            tmp[\"count_not0_\"+cluster_key] = df[cluster_sets[cluster_key]].count(axis=1)\n",
    "            tmp[\"sum_\"+cluster_key] = df[cluster_sets[cluster_key]].sum(axis=1)\n",
    "            tmp[\"median_\"+cluster_key] = df[cluster_sets[cluster_key]].median(axis=1)\n",
    "            tmp[\"mean_\"+cluster_key] = df[cluster_sets[cluster_key]].mean(axis=1)\n",
    "            tmp[\"std_\"+cluster_key] = df[cluster_sets[cluster_key]].std(axis=1)\n",
    "            tmp[\"max_\"+cluster_key] = df[cluster_sets[cluster_key]].max(axis=1)\n",
    "            tmp[\"min_\"+cluster_key] = df[cluster_sets[cluster_key]].min(axis=1)\n",
    "            tmp[\"skew_\"+cluster_key] = df[cluster_sets[cluster_key]].skew(axis=1)\n",
    "            tmp[\"kurtosis_\"+cluster_key] = df[cluster_sets[cluster_key]].kurtosis(axis=1)\n",
    "            tmp[\"nunique_\"+cluster_key] = df[cluster_sets[cluster_key]].nunique(axis=1)\n",
    "        \n",
    "    col_set = []\n",
    "    for c in colset_filename_40:\n",
    "        col_set += list(np.load('../input/continue_col/' + c))\n",
    "        \n",
    "    cluster_sets = {'40columns_flatten': col_set}\n",
    "    for cluster_key in cluster_sets:\n",
    "        for df, tmp in [(train, tmp_train),(test, tmp_test)]:\n",
    "            tmp[\"count_not0_\"+cluster_key] = df[cluster_sets[cluster_key]].count(axis=1)\n",
    "            tmp[\"sum_\"+cluster_key] = df[cluster_sets[cluster_key]].sum(axis=1)\n",
    "            tmp[\"median_\"+cluster_key] = df[cluster_sets[cluster_key]].median(axis=1)\n",
    "            tmp[\"mean_\"+cluster_key] = df[cluster_sets[cluster_key]].mean(axis=1)\n",
    "            tmp[\"std_\"+cluster_key] = df[cluster_sets[cluster_key]].std(axis=1)\n",
    "            tmp[\"max_\"+cluster_key] = df[cluster_sets[cluster_key]].max(axis=1)\n",
    "            tmp[\"min_\"+cluster_key] = df[cluster_sets[cluster_key]].min(axis=1)\n",
    "            tmp[\"skew_\"+cluster_key] = df[cluster_sets[cluster_key]].skew(axis=1)\n",
    "            tmp[\"kurtosis_\"+cluster_key] = df[cluster_sets[cluster_key]].kurtosis(axis=1)\n",
    "            tmp[\"nunique_\"+cluster_key] = df[cluster_sets[cluster_key]].nunique(axis=1)\n",
    "   \n",
    "    return tmp_train, tmp_test"
   ]
  },
  {
   "cell_type": "code",
   "execution_count": 26,
   "metadata": {},
   "outputs": [
    {
     "name": "stderr",
     "output_type": "stream",
     "text": [
      "100%|████████████████████████████████████████████████████████████████████████████████████| 3/3 [01:23<00:00, 27.72s/it]\n"
     ]
    }
   ],
   "source": [
    "tmp_data, tmp_test = add_statistics(data, test)"
   ]
  },
  {
   "cell_type": "code",
   "execution_count": 27,
   "metadata": {},
   "outputs": [],
   "source": [
    "tmp_data2, tmp_test2 = add_statistics2(data, test)"
   ]
  },
  {
   "cell_type": "code",
   "execution_count": 28,
   "metadata": {
    "scrolled": true
   },
   "outputs": [],
   "source": [
    "data = pd.concat([data, tmp_data, tmp_data2], axis=1)\n",
    "test = pd.concat([test, tmp_test, tmp_test2], axis=1)"
   ]
  },
  {
   "cell_type": "code",
   "execution_count": 29,
   "metadata": {},
   "outputs": [],
   "source": [
    "def fit_cv(data, y, test):\n",
    "    features = data.columns.tolist()\n",
    "    print(data.shape, test.shape, len(features))\n",
    "    dtrain = lgb.Dataset(data=data[features], label=np.log1p(y['target']), free_raw_data=False)\n",
    "    dtrain.construct()\n",
    "    res_lis = []\n",
    "    for seeds in [57]:\n",
    "        \n",
    "        all_params = {\n",
    "            'objective': ['regression'],\n",
    "            'num_leaves': [90],\n",
    "            'subsample': [0.1],\n",
    "            'colsample_bytree': [0.05],\n",
    "            'min_split_gain': [0.1],\n",
    "            'reg_alpha':  [10],\n",
    "            'reg_lambda': [1],\n",
    "            'min_child_weight': [10],\n",
    "            'verbose': [-1],\n",
    "            'seed': [57],\n",
    "            'boosting_type': ['gbdt'],\n",
    "            'max_depth': [-1],\n",
    "            'learning_rate': [0.01],\n",
    "            'metric': ['root_mean_squared_error'],\n",
    "            'nthread':[-1]\n",
    "        }\n",
    "         \n",
    "        all_params['seed'] = [seeds]\n",
    "\n",
    "        # Run KFold\n",
    "        best_score = 100\n",
    "        best_params = None\n",
    "        best_iteration = None\n",
    "        for params in tqdm(list(ParameterGrid(all_params))):\n",
    "            print(params)\n",
    "            clf = lgb.cv(params,\n",
    "                         dtrain,\n",
    "                         num_boost_round=10000,\n",
    "                         nfold=4,\n",
    "                         stratified=False,\n",
    "                         early_stopping_rounds=200,\n",
    "                         verbose_eval=100,\n",
    "                            )\n",
    "            full_score = clf['rmse-mean'][-1]\n",
    "            print(full_score)\n",
    "            if best_score > full_score:\n",
    "                best_score = full_score\n",
    "                best_iteration = len(clf['rmse-mean'])\n",
    "                best_params = params.copy()\n",
    "                print('update best score %.6f' % best_score)\n",
    "                print('update best iteration : ', best_iteration)\n",
    "                print('update best param : ', best_params)\n",
    "        res_lis.append([best_score, best_params, best_iteration])\n",
    "    \n",
    "    return res_lis\n"
   ]
  },
  {
   "cell_type": "code",
   "execution_count": 30,
   "metadata": {
    "scrolled": true
   },
   "outputs": [
    {
     "name": "stdout",
     "output_type": "stream",
     "text": [
      "(12310, 5931) (49342, 5931) 5931\n"
     ]
    },
    {
     "name": "stderr",
     "output_type": "stream",
     "text": [
      "\r",
      "  0%|                                                                                            | 0/1 [00:00<?, ?it/s]"
     ]
    },
    {
     "name": "stdout",
     "output_type": "stream",
     "text": [
      "{'boosting_type': 'gbdt', 'colsample_bytree': 0.05, 'learning_rate': 0.01, 'max_depth': -1, 'metric': 'root_mean_squared_error', 'min_child_weight': 10, 'min_split_gain': 0.1, 'nthread': -1, 'num_leaves': 90, 'objective': 'regression', 'reg_alpha': 10, 'reg_lambda': 1, 'seed': 57, 'subsample': 0.1, 'verbose': -1}\n",
      "[100]\tcv_agg's rmse: 1.43136 + 0.0161511\n",
      "[200]\tcv_agg's rmse: 1.34164 + 0.0126086\n",
      "[300]\tcv_agg's rmse: 1.32147 + 0.0117232\n",
      "[400]\tcv_agg's rmse: 1.31654 + 0.0115015\n",
      "[500]\tcv_agg's rmse: 1.31585 + 0.0117695\n",
      "[600]\tcv_agg's rmse: 1.31608 + 0.0118481\n",
      "1.3157823323484557\n",
      "update best score 1.315782\n",
      "update best iteration :  473\n",
      "update best param :  {'boosting_type': 'gbdt', 'colsample_bytree': 0.05, 'learning_rate': 0.01, 'max_depth': -1, 'metric': 'root_mean_squared_error', 'min_child_weight': 10, 'min_split_gain': 0.1, 'nthread': -1, 'num_leaves': 90, 'objective': 'regression', 'reg_alpha': 10, 'reg_lambda': 1, 'seed': 57, 'subsample': 0.1, 'verbose': -1}\n"
     ]
    },
    {
     "name": "stderr",
     "output_type": "stream",
     "text": [
      "100%|████████████████████████████████████████████████████████████████████████████████████| 1/1 [00:28<00:00, 28.50s/it]\n"
     ]
    }
   ],
   "source": [
    "res_result = fit_cv(data, y, test)"
   ]
  },
  {
   "cell_type": "code",
   "execution_count": 31,
   "metadata": {},
   "outputs": [],
   "source": [
    "res = res_result[0]"
   ]
  },
  {
   "cell_type": "code",
   "execution_count": 32,
   "metadata": {},
   "outputs": [
    {
     "name": "stderr",
     "output_type": "stream",
     "text": [
      "100%|██████████████████████████████████████████████████████████████████████████████████| 10/10 [03:52<00:00, 23.27s/it]\n"
     ]
    }
   ],
   "source": [
    "sub_preds = np.zeros(len(test))\n",
    "features = data.columns.tolist()\n",
    "# Convert to lightgbm Dataset\n",
    "dtrain = lgb.Dataset(data=data, label=np.log1p(y['target']), free_raw_data=False)\n",
    "# Construct dataset so that we can use slice()\n",
    "dtrain.construct()\n",
    "for seed in tqdm([57 ,114, 2018, 1, 11, 27, 536, 79, 6165, 119]):\n",
    "    res[1]['seed'] = seed\n",
    "    clf = lgb.train(res[1],\n",
    "                 dtrain,\n",
    "                 num_boost_round=int(res[2] * 1.1)\n",
    "                    )\n",
    "    pred = clf.predict(test) / 10\n",
    "    \n",
    "    sub_preds += pred"
   ]
  },
  {
   "cell_type": "code",
   "execution_count": 33,
   "metadata": {},
   "outputs": [],
   "source": [
    "sub['target'] = np.expm1(sub_preds)\n",
    "\n",
    "sub.to_csv('../submit/LateSub_SA10_log.csv', index=False)"
   ]
  },
  {
   "cell_type": "code",
   "execution_count": null,
   "metadata": {},
   "outputs": [],
   "source": []
  }
 ],
 "metadata": {
  "kernelspec": {
   "display_name": "Python 3",
   "language": "python",
   "name": "python3"
  },
  "language_info": {
   "codemirror_mode": {
    "name": "ipython",
    "version": 3
   },
   "file_extension": ".py",
   "mimetype": "text/x-python",
   "name": "python",
   "nbconvert_exporter": "python",
   "pygments_lexer": "ipython3",
   "version": "3.6.5"
  }
 },
 "nbformat": 4,
 "nbformat_minor": 2
}
